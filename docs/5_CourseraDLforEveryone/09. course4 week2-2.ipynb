{
 "cells": [
  {
   "cell_type": "markdown",
   "metadata": {},
   "source": [
    "\n",
    "\n",
    "# course 4. Convolutional Neural Networks  \n",
    "\n",
    "## week 2. Deep convolutional models: case studies\n",
    "\n",
    "## 4.2.2.Practical Advices for Using ConvNets \n",
    "<br/><br/>\n",
    "### 1. Using Open Source Implementation\n",
    "- 결론 : Open Source 활용하기\n",
    "- 이유 \n",
    "\t- 이미 여러 연구자들, 공부하는 사람들이 구현해 놓은 성능이 입증된 구현체들이 많다. \n",
    "\t- 여러 개의 GPU로 몇 달에 걸쳐 학습한 파라미터들 제공. \n",
    "\t- 원하는 목적을 효율적으로 달성 가능\n",
    "\t- 구현되어 있는 것을 따라가는 것도 어렵지만, 처음부터 혼자 모두 구조를 만드는 것은 더 어렵다.<br/><br/>\n",
    "<br/>  \n",
    "\n",
    "### 2. Transfer Learning\n",
    "- 그렇다면 Open Source를 어떻게 이용할까? 오픈 소스 가중치를 초기값으로 사용하여 훈련!\n",
    "- 3가지를 분류하는 Classification하는 모델을 가정<br/>\n",
    "![image](images/TL1.JPG)\n",
    "<br/>\n",
    "- Open Source에서 architecture를 가중치와 같이 가져오고, 뒤의 softmax classification 부분만 3가지(고양이1,2,없음) 결과가 나오도록 구조를 수정.\n",
    "- 작업에 필요한 훈련 세트가 작을 때  \n",
    "1) 앞의 layer들은 고정(freeze)하여 softmax classification 부분만 학습.  \n",
    "    딥러닝 프레임워크의 훈련 여부 결정은 훈련 가능한 prameter=0 또는 freeze=1  \n",
    "2) 고정함수가 되는 훈련 세트의 활성값을 저장   \n",
    "    이미지 X 를 입력해서 특성 벡터를 계산한 후 softmax 모델 훈련. 매번 freeze된 부분이 연산되지 않도록 함.)  \n",
    "<br/>\n",
    "![image](images/TL2.JPG)\n",
    "<br/>\n",
    "- input Data가 많을 수록 freeze 부분은 줄고 훈련시킬 부분이 증가.  \n",
    "- 작업에 필요한 훈련 세트가 클 때  \n",
    "1) 하나의 softmax unit만 훈련하는 것이 아니라 마지막 layer들을 조합한 작은 network를 훈련.  \n",
    "2) 오픈 소스 네트워크와 가중치 전부를 초기화 과정으로 사용하여 전체를 다시 훈련.  \n",
    " <br/>\n",
    "<br/>\n",
    "\n",
    "### 3. Data Augmentation\n",
    "<br/>\n",
    "- 기존의 data를 변형하여 사용함으로써 성능 향상.\n",
    "    - mirroring: 반전 효과\n",
    "    - Random Cropping: 무작위로 일부를 잘라내기\n",
    "    - Rotation,  Shearing,  Local warping: 복잡성을 고려, 비교적 적게 사용\n",
    "    - color shifting: RGB색상 변환\n",
    "\n",
    "![image](images/Ag1.JPG)\n",
    "<br/>\n",
    "\n",
    "![image](images/Ag2.JPG)\n",
    "<br/>\n",
    "- 이미지 내용에 대한 레이블은 유지 (고양이냐 아니냐)\n",
    "- 이미지 변화와 왜곡에 강력해짐.  \n",
    "\n",
    "<br/><br/>\n",
    "\n",
    "### 4. State of Computer\n",
    "<br/>\n",
    "![image](images/dd.JPG)\n",
    "<br/>\n",
    "- 지식의 원천은 1) x-y 쌍으로 레이블이 지정된 데이터와 2) Hand-engineering\n",
    "- data가 많을 경우, 적은 hand-engineering: 거대한 신경망, 단순한 아키텍처 \n",
    "- data가 적을 경우, 많은 hand-engineering: 시스템 요소들을 수동으로 조작->tranfer learning\n",
    "<br/><br/>\n",
    "\n",
    "\n",
    "![image](images/ff.JPG)\n",
    "\n",
    "\n"
   ]
  },
  {
   "cell_type": "code",
   "execution_count": null,
   "metadata": {
    "collapsed": true
   },
   "outputs": [],
   "source": []
  }
 ],
 "metadata": {
  "kernelspec": {
   "display_name": "Python 3",
   "language": "python",
   "name": "python3"
  },
  "language_info": {
   "codemirror_mode": {
    "name": "ipython",
    "version": 3
   },
   "file_extension": ".py",
   "mimetype": "text/x-python",
   "name": "python",
   "nbconvert_exporter": "python",
   "pygments_lexer": "ipython3",
   "version": "3.6.5"
  }
 },
 "nbformat": 4,
 "nbformat_minor": 2
}
