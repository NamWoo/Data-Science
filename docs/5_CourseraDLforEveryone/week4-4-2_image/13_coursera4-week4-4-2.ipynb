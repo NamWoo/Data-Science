{
 "cells": [
  {
   "cell_type": "code",
   "execution_count": null,
   "metadata": {},
   "outputs": [],
   "source": []
  },
  {
   "cell_type": "code",
   "execution_count": null,
   "metadata": {},
   "outputs": [],
   "source": []
  },
  {
   "cell_type": "markdown",
   "metadata": {},
   "source": [
    "## Style Cost Function <br/><br/>\n",
    "\n",
    "- Style Cost Function은 Content Cost Function과 다른 방식\n",
    "- 하지만 Content Cost Function과 마찬가지로 pre-trained된 모델을 사용\n",
    "- 핵심 개념은 \"Style을 activation에서 channel별로 Correlation으로 정의 하는 것\"<br/>\n",
    "<br/>\n",
    "\n",
    "----\n",
    "- 아래 예시를 보자 <br/>\n",
    "![correlation](images/b1.jpg)\n",
    "<br/>\n",
    "- CNN에서 각 layer의 output(activation)은 input을 여러 channel로 convolution한 image들의 집합이다. 위의 사진을 보면 activation의 빨강, 노랑, 파랑 등의 부분은 input을 다른 channel로 convolution한 것 결과이다. 즉 각각 input에서 뽑아낸 특징들이라고 생각할 수 있다. 예시로 아래에 있는 사진을 보면 activation의 빨강 부분은 input image에서 세로 선들을 뽑아낸 것, 노랑 부분은 빨간색, 주황색 계열을 뽑아낸 것이다. \n",
    "- 그럼 이 activation의 빨강 부분, 노랑 부분 들의 correlation이 Style로 정의 된다. 즉 세로 선이 존재 할 때 붉은 계열도 존재하는지의 상관관계를 구하는 것이다. 이렇게 모든 channel에 의한 activation들의 \n",
    "상관관계를 Style로 정의한다.\n",
    "- Stryle을 구하기 위해 사용하는 layer들은 pre-trained된 CNN 모델(ex) vgg <br/>\n",
    "<br/>\n",
    "----\n",
    "- 아래 사진은 이를 수식으로 어떻게 나타내는지 보여준다. <br/>\n",
    "\n",
    "![style matrix](images/b2.jpg)\n",
    "<br/>\n",
    "- correlation matrix인 \"Gram matrix\". G라 부름.\n",
    "- G의 size는 $l$ layer의 activation을 구할 때 사용된 channel의 수\n",
    "- G의 (k,k')값은 activation k번째 channel로 conv한 것과 k'로 한 것에서 같은 위치(nh, nw)에 있는 값들을 곱해서 합한 것이다.\n",
    "- 결과적으로 우리가 원하는 것은 S(Style)와 G(Generated)의 \"Gram matrix\"차이를 줄이는 것이다.\n",
    "- Gram matrix 차이의 norm에 행렬의 크기에 관련된 숫자($beta$를 곱할 것이기 때문에 크게 중요하지 않음.)를 나눠주고 $beta$를 곱해주면 $l$번째 layer에서의 Style loss function이 된다.  <br/>\n",
    "<br/>\n",
    "----\n",
    "![style ](images/b2.jpg)\n",
    "\n",
    "<br/>\n",
    "\n",
    "- 모든 Layer에 대해서 Style Loss Function을 더하면 Style Cost Function이 된다."
   ]
  },
  {
   "cell_type": "code",
   "execution_count": 1,
   "metadata": {},
   "outputs": [
    {
     "ename": "SyntaxError",
     "evalue": "invalid syntax (<ipython-input-1-428c52a840b3>, line 2)",
     "output_type": "error",
     "traceback": [
      "\u001b[1;36m  File \u001b[1;32m\"<ipython-input-1-428c52a840b3>\"\u001b[1;36m, line \u001b[1;32m2\u001b[0m\n\u001b[1;33m    - style transfer의 경우 비용 함수 두 개를 사용함\u001b[0m\n\u001b[1;37m                    ^\u001b[0m\n\u001b[1;31mSyntaxError\u001b[0m\u001b[1;31m:\u001b[0m invalid syntax\n"
     ]
    }
   ],
   "source": [
    "## Content Cost Function\n",
    "- style transfer의 경우 비용 함수 두 개를 사용함\n",
    "  - content cost Function\n",
    "  - style cost function\n",
    "\n",
    "- content cost function을 정의하는 법\n",
    "  - content cost를 계산하기 위해서 은닉층 중 하나를 선택\n",
    "    - 보통 은닉층 중간 정도에 있는 레이어를 선택함\n",
    "  - 미리 학습된 네트워크를 선택\n",
    "  - $a^{[1](C)}$와 $a^{[1](G)}$를 각각 원본과 생성된 이미지 대한 activation라고 할 때, 두 값이 유사하다면 두 이미지가 유사한 내용을 가지고 있다고 할 수 있음\n",
    "  - $J_{content}(C, G) = \\alpha * ||a^{[1](C)} - a^{[1](G)}||^{2}$로 정의\n",
    "\n",
    "\n"
   ]
  },
  {
   "cell_type": "code",
   "execution_count": 2,
   "metadata": {},
   "outputs": [
    {
     "ename": "SyntaxError",
     "evalue": "invalid syntax (<ipython-input-2-3cfdf04b76e5>, line 3)",
     "output_type": "error",
     "traceback": [
      "\u001b[1;36m  File \u001b[1;32m\"<ipython-input-2-3cfdf04b76e5>\"\u001b[1;36m, line \u001b[1;32m3\u001b[0m\n\u001b[1;33m    - 1차원 데이터에 convolution을 적용하는 방법\u001b[0m\n\u001b[1;37m        ^\u001b[0m\n\u001b[1;31mSyntaxError\u001b[0m\u001b[1;31m:\u001b[0m invalid syntax\n"
     ]
    }
   ],
   "source": [
    "## 1D and 3D Generalizations\n",
    "\n",
    "- 1차원 데이터에 convolution을 적용하는 방법\n",
    "![](./1d.jpg)\n",
    "  - ex) 각 시간 단위마다의 심장의 전압?을 측정하는 심전도\n",
    "  - 2D convolution의 경우\n",
    "    - 14 * 14 * 3 데이터에 대해 5 * 5 * 3필터 적용 : 10 * 10 convolution\n",
    "  - 1D의 경우\n",
    "    - 14 * 1 데이터에 대해 5 * 1 필터 적용 : 10 convolution\n",
    "    - 2D와 동일한 방식으로 실행하여 결과를 얻을 수 있음\n",
    "    - 이런 시계열 데이터와 같은 경우에는 RNN을 사용할 수도 있으며 각각을 사용할 때의 장단점이 존재\n",
    "      - RNN 파트에서...\n",
    "\n",
    "- 3차원 데이터에 적용하는 방법\n",
    "  - ex) CT 스캔(신체의 각 단면을 촬영한 사진이지만 각각의 사진을 하나의 input으로 이용함)\n",
    "  - ![](./3d.jpg)\n",
    "  - 이 경우 필터가 3차원으로 변경됨"
   ]
  },
  {
   "cell_type": "code",
   "execution_count": null,
   "metadata": {},
   "outputs": [],
   "source": []
  }
 ],
 "metadata": {
  "kernelspec": {
   "display_name": "Python 3",
   "language": "python",
   "name": "python3"
  },
  "language_info": {
   "codemirror_mode": {
    "name": "ipython",
    "version": 3
   },
   "file_extension": ".py",
   "mimetype": "text/x-python",
   "name": "python",
   "nbconvert_exporter": "python",
   "pygments_lexer": "ipython3",
   "version": "3.6.5"
  }
 },
 "nbformat": 4,
 "nbformat_minor": 2
}
